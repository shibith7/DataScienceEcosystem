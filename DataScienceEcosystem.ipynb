{
 "cells": [
  {
   "cell_type": "markdown",
   "id": "c1c100db",
   "metadata": {},
   "source": [
    "# Data Science Tools and  Ecosystem"
   ]
  },
  {
   "cell_type": "markdown",
   "id": "bbcbb182",
   "metadata": {},
   "source": [
    "In this notebook, Data Science Tools and Ecosystem are summarized."
   ]
  },
  {
   "cell_type": "markdown",
   "id": "690d7a20",
   "metadata": {},
   "source": [
    "**Objectives**\n",
    "-  List popular languages for data science\n",
    "-  List commonly used libraries for data science\n",
    "-  Create a table\n",
    "-  Solve a arithmetic problem"
   ]
  },
  {
   "cell_type": "markdown",
   "id": "c4333c3c",
   "metadata": {},
   "source": [
    "Some of the popular languages that Data Scientists use are:\n",
    "1.  python\n",
    "2.  R\n",
    "3.  Scala\n",
    "4.  Sql"
   ]
  },
  {
   "cell_type": "markdown",
   "id": "2440ff2a",
   "metadata": {},
   "source": [
    "Some of the commonly used libraries used by Data Scientists include:\n",
    "-  computing libraries like pandas,numpy \n",
    "-  visualization libabries like matplotlib, seaborn\n",
    "-  machine learning libraries like scikit learn,pytorch, tensorflow"
   ]
  },
  {
   "cell_type": "markdown",
   "id": "8d95850f",
   "metadata": {},
   "source": [
    "| Data Science Tools |\n",
    "|:-----------------:|\n",
    "| jupyter notebook|\n",
    "| vs code|\n",
    "| r studio|"
   ]
  },
  {
   "cell_type": "markdown",
   "id": "e3331a6e",
   "metadata": {},
   "source": [
    "### Below are a few examples of evaluating arithmetic expressions in Python"
   ]
  },
  {
   "cell_type": "code",
   "execution_count": 3,
   "id": "abae24b7",
   "metadata": {},
   "outputs": [
    {
     "name": "stdout",
     "output_type": "stream",
     "text": [
      "17\n"
     ]
    }
   ],
   "source": [
    "# This a simple arithmetic expression to mutiply then add integers\n",
    "\n",
    "x=3\n",
    "y=4\n",
    "z=5\n",
    "sum=(x*y)+z\n",
    "print(sum)"
   ]
  },
  {
   "cell_type": "code",
   "execution_count": 5,
   "id": "1839711a",
   "metadata": {},
   "outputs": [
    {
     "name": "stdout",
     "output_type": "stream",
     "text": [
      "3.3333333333333335\n"
     ]
    }
   ],
   "source": [
    " # This will convert 200 minutes to hours by diving by 60\n",
    "    \n",
    "min=200\n",
    "hr=min/60\n",
    "print(hr)"
   ]
  },
  {
   "cell_type": "markdown",
   "id": "1a615d7c",
   "metadata": {},
   "source": [
    "## Author\n",
    "Shibith Chandran M"
   ]
  },
  {
   "cell_type": "code",
   "execution_count": null,
   "id": "a754799f",
   "metadata": {},
   "outputs": [],
   "source": []
  }
 ],
 "metadata": {
  "kernelspec": {
   "display_name": "Python 3 (ipykernel)",
   "language": "python",
   "name": "python3"
  },
  "language_info": {
   "codemirror_mode": {
    "name": "ipython",
    "version": 3
   },
   "file_extension": ".py",
   "mimetype": "text/x-python",
   "name": "python",
   "nbconvert_exporter": "python",
   "pygments_lexer": "ipython3",
   "version": "3.11.4"
  }
 },
 "nbformat": 4,
 "nbformat_minor": 5
}
